{
 "cells": [
  {
   "cell_type": "markdown",
   "metadata": {},
   "source": [
    "# TextBlob\n",
    "---\n",
    "TextBlob is more of a natural language processing library, but it comes with a rule-based sentiment analysis library that we can use. \n",
    "\n",
    "### Install TextBlob\n",
    "```bash\n",
    "pip3 install textblob\n",
    "```\n",
    "---"
   ]
  },
  {
   "cell_type": "markdown",
   "metadata": {},
   "source": [
    "#### Imports "
   ]
  },
  {
   "cell_type": "code",
   "execution_count": 1,
   "metadata": {},
   "outputs": [],
   "source": [
    "from textblob import TextBlob"
   ]
  },
  {
   "cell_type": "markdown",
   "metadata": {},
   "source": [
    "#### TextBlob will take the string of the text we want to study"
   ]
  },
  {
   "cell_type": "code",
   "execution_count": 2,
   "metadata": {},
   "outputs": [],
   "source": [
    "analysis = TextBlob(\"TextBlob sure looks like it has some interesting features!\")"
   ]
  },
  {
   "cell_type": "markdown",
   "metadata": {},
   "source": [
    "## translation\n",
    "---\n",
    "- Translate() method takes the target language to translate the sentense\n",
    "- detect_language() the textblob text language"
   ]
  },
  {
   "cell_type": "code",
   "execution_count": 15,
   "metadata": {},
   "outputs": [
    {
     "data": {
      "text/plain": [
       "TextBlob(\"TextBlob निश्चित रूप से लगता है कि इसमें कुछ दिलचस्प विशेषताएं हैं!\")"
      ]
     },
     "execution_count": 15,
     "metadata": {},
     "output_type": "execute_result"
    }
   ],
   "source": [
    "analysis.translate(to=\"Hi\")"
   ]
  },
  {
   "cell_type": "code",
   "execution_count": 16,
   "metadata": {},
   "outputs": [
    {
     "data": {
      "text/plain": [
       "TextBlob(\"TextBlobは確かにいくつかの興味深い機能を持っているように見えます！\")"
      ]
     },
     "execution_count": 16,
     "metadata": {},
     "output_type": "execute_result"
    }
   ],
   "source": [
    "analysis.translate(to=\"Ja\")"
   ]
  },
  {
   "cell_type": "code",
   "execution_count": 17,
   "metadata": {},
   "outputs": [
    {
     "data": {
      "text/plain": [
       "'ja'"
      ]
     },
     "execution_count": 17,
     "metadata": {},
     "output_type": "execute_result"
    }
   ],
   "source": [
    "b = TextBlob(\"日本語\")\n",
    "b.detect_language()"
   ]
  },
  {
   "cell_type": "markdown",
   "metadata": {},
   "source": [
    "## Grammer tags\n",
    "---\n",
    "- requred downloads of nltk"
   ]
  },
  {
   "cell_type": "code",
   "execution_count": 10,
   "metadata": {},
   "outputs": [
    {
     "name": "stderr",
     "output_type": "stream",
     "text": [
      "[nltk_data] Downloading package averaged_perceptron_tagger to\n",
      "[nltk_data]     /home/vaibhav/nltk_data...\n",
      "[nltk_data]   Unzipping taggers/averaged_perceptron_tagger.zip.\n"
     ]
    },
    {
     "data": {
      "text/plain": [
       "True"
      ]
     },
     "execution_count": 10,
     "metadata": {},
     "output_type": "execute_result"
    }
   ],
   "source": [
    "import nltk\n",
    "from textblob import TextBlob\n",
    "nltk.download('averaged_perceptron_tagger')"
   ]
  },
  {
   "cell_type": "code",
   "execution_count": 11,
   "metadata": {},
   "outputs": [],
   "source": [
    "analysis = TextBlob(\"TextBlob sure looks like it has some interesting features!\")"
   ]
  },
  {
   "cell_type": "code",
   "execution_count": 12,
   "metadata": {},
   "outputs": [
    {
     "name": "stdout",
     "output_type": "stream",
     "text": [
      "[('TextBlob', 'NNP'), ('sure', 'JJ'), ('looks', 'VBZ'), ('like', 'IN'), ('it', 'PRP'), ('has', 'VBZ'), ('some', 'DT'), ('interesting', 'JJ'), ('features', 'NNS')]\n"
     ]
    }
   ],
   "source": [
    "print(analysis.tags)"
   ]
  },
  {
   "cell_type": "markdown",
   "metadata": {},
   "source": [
    "**These are parts of speech. Since TextBlob is built on top of NLTK, the part of speech tags are the same. Here are the definitions:**\n",
    "\n",
    "POS tag list:\n",
    "- CC  coordinating conjunction\n",
    "- CD  cardinal digit\n",
    "- DT  determiner\n",
    "- EX  existential there (like: \"there is\" ... think of it like \"there exists\")\n",
    "- FW  foreign word\n",
    "- IN  preposition/subordinating conjunction\n",
    "- JJ  adjective   'big'\n",
    "- JJR adjective, comparative  'bigger'\n",
    "- JJS adjective, superlative  'biggest'\n",
    "- LS  list marker 1)\n",
    "- MD  modal   could, will\n",
    "- NN  noun, singular 'desk'\n",
    "- NNS noun plural 'desks'\n",
    "- NNP proper noun, singular   'Harrison'\n",
    "- NNPS    proper noun, plural 'Americans'\n",
    "- PDT predeterminer   'all the kids'\n",
    "- POS possessive ending   parent\\'s\n",
    "- PRP personal pronoun    I, he, she\n",
    "- RB  adverb  very, silently,\n",
    "- RBR adverb, comparative better\n",
    "- RBS adverb, superlative best\n",
    "- RP  particle    give up\n",
    "- TO  to  go 'to' the store.\n",
    "- UH  interjection    errrrrrrrm\n",
    "- VB  verb, base form take\n",
    "- VBD verb, past tense    took\n",
    "- VBG verb, gerund/present participle taking\n",
    "- VBN verb, past participle   taken\n",
    "- VBP verb, sing. present, non-3d take\n",
    "- VBZ verb, 3rd person sing. present  takes\n",
    "- WDT wh-determiner   which\n",
    "- WP  wh-pronoun  who, what\n",
    "- WRB wh-abverb   where, when"
   ]
  },
  {
   "cell_type": "markdown",
   "metadata": {},
   "source": [
    "## Sentiment analysis\n",
    "---\n",
    "- #### Subjectivity \n",
    "    Subjective sentence expresses some personal feelings, views, or beliefs.\n",
    "\n",
    "- #### Polarity \n",
    "It simply means emotions expressed in a sentence.Emotions are closely related to sentiments. The strength of a sentiment or opinion is typically linked to the intensity of certain emotions, e.g., joy and anger.\n",
    "Opinions in sentiment analysis are mostly evaluations(although not always).\n",
    "\n",
    "- #### Example\n",
    "    subjective sentence is “I like iPhone.” Subjective expressions come in many forms, e.g., opinions, allegations, desires, beliefs, suspicions, and speculations.\n",
    "\n",
    "    A subjective sentence may not express any sentiment.\n",
    "    For example, “I think that he went home” and “I want a camera that can take good photos” are a subjective sentences, but does not express any sentiment."
   ]
  },
  {
   "cell_type": "code",
   "execution_count": 14,
   "metadata": {},
   "outputs": [
    {
     "name": "stdout",
     "output_type": "stream",
     "text": [
      "Sentiment(polarity=0.5625, subjectivity=0.6944444444444444)\n"
     ]
    }
   ],
   "source": [
    "analysis = TextBlob(\"TextBlob sure looks like it has some interesting features!\")\n",
    "print(analysis.sentiment)"
   ]
  },
  {
   "cell_type": "code",
   "execution_count": 24,
   "metadata": {},
   "outputs": [],
   "source": [
    "text = '''\n",
    "The titular threat of The Blob has always struck me as the ultimate movie\n",
    "monster: an insatiably hungry, amoeba-like mass able to penetrate\n",
    "virtually any safeguard, capable of--as a doomed doctor chillingly\n",
    "describes it--\"assimilating flesh on contact.\n",
    "Snide comparisons to gelatin be damned, it's a concept with the most\n",
    "devastating of potential consequences, not unlike the grey goo scenario\n",
    "proposed by technological theorists fearful of\n",
    "artificial intelligence run rampant.\n",
    "'''"
   ]
  },
  {
   "cell_type": "markdown",
   "metadata": {},
   "source": [
    "#### extracting noun from text"
   ]
  },
  {
   "cell_type": "code",
   "execution_count": 25,
   "metadata": {},
   "outputs": [
    {
     "name": "stdout",
     "output_type": "stream",
     "text": [
      "['titular threat', 'blob', 'ultimate movie monster', 'amoeba-like mass', 'contact.snide comparisons', 'potential consequences', 'grey goo scenario', 'technological theorists fearful', 'artificial intelligence run rampant']\n"
     ]
    }
   ],
   "source": [
    "blob = TextBlob(text)\n",
    "          \n",
    "print(blob.noun_phrases)"
   ]
  },
  {
   "cell_type": "markdown",
   "metadata": {},
   "source": [
    "#### extracting sentences from paragraph"
   ]
  },
  {
   "cell_type": "code",
   "execution_count": 26,
   "metadata": {},
   "outputs": [
    {
     "name": "stdout",
     "output_type": "stream",
     "text": [
      "1\n"
     ]
    }
   ],
   "source": [
    "print(len(blob.sentences))"
   ]
  },
  {
   "cell_type": "code",
   "execution_count": 27,
   "metadata": {},
   "outputs": [
    {
     "data": {
      "text/plain": [
       "Sentence(\"\n",
       "The titular threat of The Blob has always struck me as the ultimate movie\n",
       "monster: an insatiably hungry, amoeba-like mass able to penetrate\n",
       "virtually any safeguard, capable of--as a doomed doctor chillingly\n",
       "describes it--\"assimilating flesh on contact.Snide comparisons to gelatin be damned, it's a concept with the most\n",
       "devastating of potential consequences, not unlike the grey goo scenario\n",
       "proposed by technological theorists fearful of\n",
       "artificial intelligence run rampant.\")"
      ]
     },
     "execution_count": 27,
     "metadata": {},
     "output_type": "execute_result"
    }
   ],
   "source": [
    "blob.sentences[-1]"
   ]
  },
  {
   "cell_type": "code",
   "execution_count": null,
   "metadata": {},
   "outputs": [],
   "source": []
  }
 ],
 "metadata": {
  "kernelspec": {
   "display_name": "Python 3",
   "language": "python",
   "name": "python3"
  },
  "language_info": {
   "codemirror_mode": {
    "name": "ipython",
    "version": 3
   },
   "file_extension": ".py",
   "mimetype": "text/x-python",
   "name": "python",
   "nbconvert_exporter": "python",
   "pygments_lexer": "ipython3",
   "version": "3.8.5"
  }
 },
 "nbformat": 4,
 "nbformat_minor": 4
}
