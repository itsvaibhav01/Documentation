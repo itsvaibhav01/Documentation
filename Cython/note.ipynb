{
 "cells": [
  {
   "cell_type": "markdown",
   "metadata": {},
   "source": [
    "# Cython\n",
    "---\n",
    "- Making python code faster, particularly things that can't be done in scipy/numpy\n",
    "- Wrapping/interfacing with C/C++ code\n",
    "\n",
    "### Cython install\n",
    "---\n",
    "\n",
    "```bash\n",
    "pip3 install cython\n",
    "```\n",
    "---\n",
    "\n",
    "### Why Cyhton\n",
    "---\n",
    "In Python, when you declare a variable, like:\n",
    "\n",
    "`x = 5.0`\n",
    "You never had to tell the language that the variable 'x' was an integer. In fact, later, you can assign 'Gary' to x and be just fine. This is because Python checks every single time for you to figure out the type. This is called \"dynamic typing.\"\n",
    "\n",
    "This is nifty, and makes learning initially very simple, and Python was really only meant to be a teaching language, but this severely slows things down.\n",
    "\n",
    "Instead, if we're willing to, we can use static typing and Cython to get some serious speed ups. Many languages do something more like:\n",
    "`float x = 5.0` <br>\n",
    "\n",
    "Cython wants something like:\n",
    "`cdef float x = 5.0`"
   ]
  },
  {
   "cell_type": "markdown",
   "metadata": {},
   "source": [
    "### Function in python "
   ]
  },
  {
   "cell_type": "code",
   "execution_count": 7,
   "metadata": {},
   "outputs": [],
   "source": [
    "#example_original.py\n",
    "def test(x):\n",
    "    y = 0\n",
    "    for i in range(x):\n",
    "        y += i\n",
    "    return y"
   ]
  },
  {
   "cell_type": "markdown",
   "metadata": {},
   "source": [
    "- How do we prepare this file to be passed through Cython? rather than .py, we save file with .pyx extension"
   ]
  },
  {
   "cell_type": "code",
   "execution_count": 3,
   "metadata": {},
   "outputs": [],
   "source": [
    "#example_cython.pyx\n",
    "def test(x):\n",
    "    y = 0\n",
    "    for i in range(x):\n",
    "        y += i\n",
    "    return y"
   ]
  },
  {
   "cell_type": "markdown",
   "metadata": {},
   "source": [
    "- Once you have a .pyx, you're ready to build. To do this, we're going to make a **setup.py** file"
   ]
  },
  {
   "cell_type": "markdown",
   "metadata": {},
   "source": [
    "#### below code must not be run in jupyter notebook it should be save in file and then run with in terminal with commands given below"
   ]
  },
  {
   "cell_type": "code",
   "execution_count": null,
   "metadata": {},
   "outputs": [],
   "source": [
    "# setup.py\n",
    "from distutils.core import setup\n",
    "from Cython.Build import cythonize\n",
    "\n",
    "setup(ext_modules = cythonize('example_cython.pyx'))"
   ]
  },
  {
   "cell_type": "markdown",
   "metadata": {},
   "source": [
    "**Now run the below command in terminal**"
   ]
  },
  {
   "cell_type": "code",
   "execution_count": 4,
   "metadata": {},
   "outputs": [
    {
     "name": "stdout",
     "output_type": "stream",
     "text": [
      "Compiling example_cython.pyx because it changed.\n",
      "[1/1] Cythonizing example_cython.pyx\n",
      "/home/vaibhav/.local/lib/python3.8/site-packages/Cython/Compiler/Main.py:369: FutureWarning: Cython directive 'language_level' not set, using 2 for now (Py2). This will change in a later release! File: /home/vaibhav/Desktop/projects/freelance/documentation/example_cython.pyx\n",
      "  tree = Parsing.p_module(s, pxd, full_module_name)\n",
      "running build_ext\n",
      "building 'example_cython' extension\n",
      "creating build\n",
      "creating build/temp.linux-x86_64-3.8\n",
      "x86_64-linux-gnu-gcc -pthread -Wno-unused-result -Wsign-compare -DNDEBUG -g -fwrapv -O2 -Wall -g -fstack-protector-strong -Wformat -Werror=format-security -g -fwrapv -O2 -g -fstack-protector-strong -Wformat -Werror=format-security -Wdate-time -D_FORTIFY_SOURCE=2 -fPIC -I/usr/include/python3.8 -c example_cython.c -o build/temp.linux-x86_64-3.8/example_cython.o\n",
      "x86_64-linux-gnu-gcc -pthread -shared -Wl,-O1 -Wl,-Bsymbolic-functions -Wl,-Bsymbolic-functions -Wl,-z,relro -g -fwrapv -O2 -Wl,-Bsymbolic-functions -Wl,-z,relro -g -fwrapv -O2 -g -fstack-protector-strong -Wformat -Werror=format-security -Wdate-time -D_FORTIFY_SOURCE=2 build/temp.linux-x86_64-3.8/example_cython.o -o /home/vaibhav/Desktop/projects/freelance/documentation/example_cython.cpython-38-x86_64-linux-gnu.so\n"
     ]
    }
   ],
   "source": [
    "!python3 setup.py build_ext --inplace"
   ]
  },
  {
   "cell_type": "markdown",
   "metadata": {},
   "source": [
    "##### `example_cython.cpython-38-x86_64-linux-gnu.so` \n",
    "if you see this in end of terminal then cython has worked properly\n",
    "\n",
    "--- \n",
    "This should create a `build directory, a C file (.c), and a Shared Object file (.so)`. With this, we can import our C-extension\n"
   ]
  },
  {
   "cell_type": "markdown",
   "metadata": {},
   "source": [
    "### Using the shared object (.so file)\n",
    "- create a new file `testing.py` which will use the function we defined in cython and we will use it here."
   ]
  },
  {
   "cell_type": "code",
   "execution_count": 5,
   "metadata": {},
   "outputs": [
    {
     "data": {
      "text/plain": [
       "10"
      ]
     },
     "execution_count": 5,
     "metadata": {},
     "output_type": "execute_result"
    }
   ],
   "source": [
    "#testing.py\n",
    "import example_cython\n",
    "\n",
    "example_cython.test(5)"
   ]
  },
  {
   "cell_type": "code",
   "execution_count": 8,
   "metadata": {},
   "outputs": [
    {
     "data": {
      "text/plain": [
       "10"
      ]
     },
     "execution_count": 8,
     "metadata": {},
     "output_type": "execute_result"
    }
   ],
   "source": [
    "test(5)"
   ]
  },
  {
   "cell_type": "markdown",
   "metadata": {},
   "source": [
    "#### This is how we imported a cython function which we defined earlier \n",
    "---"
   ]
  },
  {
   "cell_type": "markdown",
   "metadata": {},
   "source": [
    "### More on using Cython to write optimized code\n",
    "---\n",
    "\n",
    "#### cdef declarations\n",
    "- cdef int x,y,z\n",
    "- cdef char *s\n",
    "- cdef float x = 5.2 (single precision)\n",
    "- cdef double x = 40.5 (double precision)\n",
    "- cdef list languages\n",
    "- cdef dict abc_dict\n",
    "- cdef object thing\n",
    "\n",
    "#### def, cdef, and cpdef\n",
    "- **def** - regular python function, calls from Python only.\n",
    "- **cdef** - cython only functions, can't access these from python-only code, must access within Cython, since there will be no C translation to Python for these.\n",
    "- **cpdef** - C and Python. Will create a C function and a wrapper for Python. Why not *always* use cpdef? In some cases, you might have C only pointer, like a C array. We'll be mostly using cpdef, however."
   ]
  },
  {
   "cell_type": "markdown",
   "metadata": {},
   "source": [
    "Starting again with orignal example"
   ]
  },
  {
   "cell_type": "code",
   "execution_count": 27,
   "metadata": {},
   "outputs": [],
   "source": [
    "#example_original.py\n",
    "def test(x):\n",
    "    y = 0\n",
    "    for i in range(x):\n",
    "        y += i\n",
    "    return y"
   ]
  },
  {
   "cell_type": "markdown",
   "metadata": {},
   "source": [
    "Changes in .pyx file  || again can not run this function here in jupyter need to save it in file as .pyx"
   ]
  },
  {
   "cell_type": "code",
   "execution_count": null,
   "metadata": {},
   "outputs": [],
   "source": [
    "#example_cython.pyx\n",
    "def test(int x):\n",
    "    cdef int y = 0\n",
    "    cdef int i\n",
    "    for i in range(x):\n",
    "        y += i\n",
    "    return y"
   ]
  },
  {
   "cell_type": "markdown",
   "metadata": {},
   "source": [
    "Code in setup.py file to make the .so object which we can use anywhere || again can not run this function here in jupyter need to save it in file as .py and run with the below commands"
   ]
  },
  {
   "cell_type": "code",
   "execution_count": null,
   "metadata": {},
   "outputs": [],
   "source": [
    "#setup.py\n",
    "from distutils.core import setup\n",
    "from Cython.Build import cythonize\n",
    "\n",
    "setup(ext_modules = cythonize('example_cython.pyx'))"
   ]
  },
  {
   "cell_type": "markdown",
   "metadata": {},
   "source": [
    "**Code for terminal to run the setup.py file**"
   ]
  },
  {
   "cell_type": "code",
   "execution_count": 22,
   "metadata": {},
   "outputs": [
    {
     "name": "stdout",
     "output_type": "stream",
     "text": [
      "running build_ext\r\n"
     ]
    }
   ],
   "source": [
    "!python3 setup.py build_ext --inplace"
   ]
  },
  {
   "cell_type": "markdown",
   "metadata": {},
   "source": [
    "#### Testing the execution time of cython function vs python function "
   ]
  },
  {
   "cell_type": "code",
   "execution_count": 39,
   "metadata": {},
   "outputs": [
    {
     "name": "stdout",
     "output_type": "stream",
     "text": [
      "19.4 µs ± 1.89 µs per loop (mean ± std. dev. of 7 runs, 100000 loops each)\n"
     ]
    }
   ],
   "source": [
    "%timeit test(500)"
   ]
  },
  {
   "cell_type": "code",
   "execution_count": 40,
   "metadata": {},
   "outputs": [],
   "source": [
    "import example_cython"
   ]
  },
  {
   "cell_type": "code",
   "execution_count": 41,
   "metadata": {},
   "outputs": [
    {
     "name": "stdout",
     "output_type": "stream",
     "text": [
      "11.6 µs ± 32.5 ns per loop (mean ± std. dev. of 7 runs, 100000 loops each)\n"
     ]
    }
   ],
   "source": [
    "%timeit example_cython.test(500)"
   ]
  },
  {
   "cell_type": "markdown",
   "metadata": {},
   "source": [
    "### For the same function writen in cython it is 2x faster then python"
   ]
  }
 ],
 "metadata": {
  "kernelspec": {
   "display_name": "Python 3",
   "language": "python",
   "name": "python3"
  },
  "language_info": {
   "codemirror_mode": {
    "name": "ipython",
    "version": 3
   },
   "file_extension": ".py",
   "mimetype": "text/x-python",
   "name": "python",
   "nbconvert_exporter": "python",
   "pygments_lexer": "ipython3",
   "version": "3.8.5"
  }
 },
 "nbformat": 4,
 "nbformat_minor": 4
}
