{
 "cells": [
  {
   "cell_type": "markdown",
   "metadata": {},
   "source": [
    "# SciPy Library\n",
    "---\n",
    "<br>\n",
    "SciPy is a Python-based ecosystem of open-source software for mathematics, science, and engineering.\n",
    "SciPy is organized into sub-packages that cover different scientific computing domains. In this SciPy Tutorial, we shall learn all the modules and the routines/algorithms they provide.\n",
    "\n",
    "### SciPy installation\n",
    "\n",
    "```bash\n",
    "pip3 install scipy\n",
    "```"
   ]
  },
  {
   "cell_type": "markdown",
   "metadata": {},
   "source": [
    "### Basic math \n",
    "- linespace"
   ]
  },
  {
   "cell_type": "code",
   "execution_count": 12,
   "metadata": {},
   "outputs": [
    {
     "name": "stdout",
     "output_type": "stream",
     "text": [
      "[1.  1.6 2.2 2.8 3.4 4. ]\n"
     ]
    }
   ],
   "source": [
    "import numpy as np\n",
    "print (np.linspace(1., 4., 6))"
   ]
  },
  {
   "cell_type": "markdown",
   "metadata": {},
   "source": [
    "- defining matrix and its transpose"
   ]
  },
  {
   "cell_type": "code",
   "execution_count": 13,
   "metadata": {},
   "outputs": [
    {
     "data": {
      "text/plain": [
       "matrix([[1, 3],\n",
       "        [2, 4]])"
      ]
     },
     "execution_count": 13,
     "metadata": {},
     "output_type": "execute_result"
    }
   ],
   "source": [
    "import numpy as np\n",
    "mat = np.matrix('1 2; 3 4')\n",
    "mat.T"
   ]
  },
  {
   "cell_type": "markdown",
   "metadata": {},
   "source": [
    "- Constents in maths"
   ]
  },
  {
   "cell_type": "code",
   "execution_count": 14,
   "metadata": {},
   "outputs": [
    {
     "name": "stdout",
     "output_type": "stream",
     "text": [
      "value of pi:  3.141592653589793\n"
     ]
    }
   ],
   "source": [
    "from scipy.constants import pi\n",
    "print(\"value of pi: \", pi)"
   ]
  },
  {
   "cell_type": "markdown",
   "metadata": {},
   "source": [
    "- more such values and the symboles can be seen here\n",
    "https://docs.scipy.org/doc/scipy/reference/constants.html"
   ]
  },
  {
   "attachments": {},
   "cell_type": "markdown",
   "metadata": {},
   "source": [
    "## Fast Fourier Transform Pack\n",
    "---\n",
    "- **fft**\n",
    "![image.png](https://www.gamasutra.com/db_area/images/feature/3993/fig2.jpg)"
   ]
  },
  {
   "cell_type": "code",
   "execution_count": 19,
   "metadata": {},
   "outputs": [
    {
     "data": {
      "text/plain": [
       "array([ 4.5       +0.j        ,  2.08155948-1.65109876j,\n",
       "       -1.83155948+1.60822041j, -1.83155948-1.60822041j,\n",
       "        2.08155948+1.65109876j])"
      ]
     },
     "execution_count": 19,
     "metadata": {},
     "output_type": "execute_result"
    }
   ],
   "source": [
    "from scipy.fftpack import fft, ifft\n",
    "\n",
    "x = np.array([1.0, 2.0, 1.0, -1.0, 1.5])\n",
    "y = fft(x)\n",
    "\n",
    "y"
   ]
  },
  {
   "cell_type": "markdown",
   "metadata": {},
   "source": [
    "- **ifft**"
   ]
  },
  {
   "cell_type": "code",
   "execution_count": 20,
   "metadata": {},
   "outputs": [
    {
     "data": {
      "text/plain": [
       "array([ 1. +0.j,  2. +0.j,  1. +0.j, -1. +0.j,  1.5+0.j])"
      ]
     },
     "execution_count": 20,
     "metadata": {},
     "output_type": "execute_result"
    }
   ],
   "source": [
    "yinv = ifft(y)\n",
    "yinv"
   ]
  },
  {
   "cell_type": "markdown",
   "metadata": {},
   "source": [
    "- Plot of sin wave fft"
   ]
  },
  {
   "cell_type": "code",
   "execution_count": 31,
   "metadata": {},
   "outputs": [
    {
     "data": {
      "image/png": "[encoded data removed]",
      "text/plain": [
       "<Figure size 432x288 with 1 Axes>"
      ]
     },
     "metadata": {
      "needs_background": "light"
     },
     "output_type": "display_data"
    }
   ],
   "source": [
    "from scipy.fftpack import fft, fftfreq\n",
    "\n",
    "N = 100\n",
    "# sample spacing\n",
    "T = 1.0 / 800.0\n",
    "\n",
    "x = np.linspace(0.0, N*T, N, endpoint=False)\n",
    "y = np.sin(2.0*np.pi*x) \n",
    "\n",
    "yf = fft(y)\n",
    "xf = fftfreq(N, T)[:N//2]\n",
    "\n",
    "import matplotlib.pyplot as plt\n",
    "\n",
    "plt.plot(xf, 2.0/N * np.abs(yf[0:N//2]))\n",
    "plt.grid()\n",
    "plt.show()"
   ]
  },
  {
   "cell_type": "markdown",
   "metadata": {},
   "source": [
    "### N-D discrete Fourier transforms\n",
    "\n",
    "- The functions fft2 and ifft2 provide 2-D FFT and IFFT, respectively. Similarly, fftn and ifftn provide N-D FFT, and IFFT, respectively.For real-input signals, similarly to rfft, we have the functions rfft2 and irfft2 for 2-D real transforms; rfftn and irfftn for N-D real transforms.\n",
    "- The example below demonstrates a 2-D IFFT and plots the resulting (2-D) time-domain signals."
   ]
  },
  {
   "cell_type": "code",
   "execution_count": 34,
   "metadata": {},
   "outputs": [
    {
     "data": {
      "image/png": "[encoded data removed]",
      "text/plain": [
       "<Figure size 432x288 with 6 Axes>"
      ]
     },
     "metadata": {
      "needs_background": "light"
     },
     "output_type": "display_data"
    }
   ],
   "source": [
    "from scipy.fftpack import ifftn\n",
    "import matplotlib.pyplot as plt\n",
    "import matplotlib.cm as cm\n",
    "\n",
    "N = 30\n",
    "f, ((ax1, ax2, ax3), (ax4, ax5, ax6)) = plt.subplots(2, 3, sharex='col', sharey='row')\n",
    "xf = np.zeros((N,N))\n",
    "xf[0, 5] = 1\n",
    "xf[0, N-5] = 1\n",
    "\n",
    "Z = ifftn(xf)\n",
    "\n",
    "ax1.imshow(xf, cmap=cm.Reds)\n",
    "ax4.imshow(np.real(Z), cmap=cm.gray)\n",
    "\n",
    "xf = np.zeros((N, N))\n",
    "xf[5, 0] = 1\n",
    "xf[N-5, 0] = 1\n",
    "\n",
    "Z = ifftn(xf)\n",
    "\n",
    "ax2.imshow(xf, cmap=cm.Reds)\n",
    "ax5.imshow(np.real(Z), cmap=cm.gray)\n",
    "\n",
    "xf = np.zeros((N, N))\n",
    "xf[5, 10] = 1\n",
    "xf[N-5, N-10] = 1\n",
    "\n",
    "Z = ifftn(xf)\n",
    "\n",
    "ax3.imshow(xf, cmap=cm.Reds)\n",
    "ax6.imshow(np.real(Z), cmap=cm.gray)\n",
    "plt.show()"
   ]
  },
  {
   "cell_type": "markdown",
   "metadata": {},
   "source": [
    "## Integrate\n",
    "\n",
    "- Interpolation types and their names cam be find here https://docs.scipy.org/doc/scipy/reference/tutorial/integrate.html\n",
    "\n",
    "- $$ \\int_{a}^{b} f(x)dx$$\n",
    "\n",
    "- $f(x) = e^{-x^2}$ \n",
    "- There are two values in output, in which the first number is the value of integral and the second value is the estimate of the absolute error in the value of integral."
   ]
  },
  {
   "cell_type": "code",
   "execution_count": 35,
   "metadata": {},
   "outputs": [
    {
     "name": "stdout",
     "output_type": "stream",
     "text": [
      "(0.7468241328124271, 8.291413475940725e-15)\n"
     ]
    }
   ],
   "source": [
    "import scipy.integrate\n",
    "from numpy import exp\n",
    "\n",
    "f= lambda x:exp(-x**2)\n",
    "a = 0\n",
    "b = 1\n",
    "\n",
    "i = scipy.integrate.quad(f, a, b)    #(function, lowerlimit, upperlimit)\n",
    "\n",
    "print (i)"
   ]
  },
  {
   "cell_type": "markdown",
   "metadata": {},
   "source": [
    "### Double integrals\n",
    "- $$\\int_{0}^{1/2} dy \\int_{0}^{\\sqrt{1-4y^2}} 16xy \\:dx$$\n",
    "\n"
   ]
  },
  {
   "cell_type": "code",
   "execution_count": 37,
   "metadata": {},
   "outputs": [
    {
     "name": "stdout",
     "output_type": "stream",
     "text": [
      "(0.5, 1.7092350012594845e-14)\n"
     ]
    }
   ],
   "source": [
    "import scipy.integrate\n",
    "from numpy import exp\n",
    "from math import sqrt\n",
    "\n",
    "f = lambda x, y : 16*x*y\n",
    "g = lambda x : 0\n",
    "h = lambda y : sqrt(1-4*y**2)\n",
    "\n",
    "i = scipy.integrate.dblquad(f, 0, 0.5, g, h)    # (func, a, b, gfun, hfun)\n",
    "\n",
    "print (i)"
   ]
  },
  {
   "cell_type": "markdown",
   "metadata": {},
   "source": [
    "## Interpolation\n",
    "- Interpolation is the process of finding a value between two points on a line or a curve.\n",
    "- below is the example with random sampled cos curve"
   ]
  },
  {
   "cell_type": "code",
   "execution_count": 42,
   "metadata": {},
   "outputs": [
    {
     "name": "stdout",
     "output_type": "stream",
     "text": [
      "[0.         0.36363636 0.72727273 1.09090909 1.45454545 1.81818182\n",
      " 2.18181818 2.54545455 2.90909091 3.27272727 3.63636364 4.        ]\n",
      "[-0.65364362 -0.61966189 -0.51077021 -0.31047698 -0.00715476  0.37976236\n",
      "  0.76715099  0.99239518  0.85886263  0.27994201 -0.52586509 -0.99582185]\n"
     ]
    }
   ],
   "source": [
    "import numpy as np\n",
    "from scipy import interpolate\n",
    "import matplotlib.pyplot as plt\n",
    "\n",
    "x = np.linspace(0, 4, 12)\n",
    "y = np.cos(x**2/3+4)\n",
    "\n",
    "print(x)\n",
    "print(y)"
   ]
  },
  {
   "cell_type": "code",
   "execution_count": 44,
   "metadata": {},
   "outputs": [
    {
     "data": {
      "image/png": "[encoded data removed]",
      "text/plain": [
       "<Figure size 432x288 with 1 Axes>"
      ]
     },
     "metadata": {
      "needs_background": "light"
     },
     "output_type": "display_data"
    }
   ],
   "source": [
    "plt.plot(x, y,'o')\n",
    "plt.show()"
   ]
  },
  {
   "cell_type": "markdown",
   "metadata": {},
   "source": [
    "### 1-D Interpolation\n",
    "- By using the above data, let us create a interpolate function and draw a new interpolated graph.\n",
    "- Below are two methods we will use in 1D inaterpolation "
   ]
  },
  {
   "cell_type": "code",
   "execution_count": 46,
   "metadata": {},
   "outputs": [],
   "source": [
    "from scipy.interpolate import interp1d\n",
    "\n",
    "f1 = interp1d(x, y,kind = 'linear')\n",
    "\n",
    "f2 = interp1d(x, y, kind = 'cubic')"
   ]
  },
  {
   "cell_type": "markdown",
   "metadata": {},
   "source": [
    "- Best fit graph using above two methods "
   ]
  },
  {
   "cell_type": "code",
   "execution_count": 52,
   "metadata": {},
   "outputs": [
    {
     "data": {
      "image/png": "[encoded data removed]",
      "text/plain": [
       "<Figure size 432x288 with 1 Axes>"
      ]
     },
     "metadata": {
      "needs_background": "light"
     },
     "output_type": "display_data"
    }
   ],
   "source": [
    "xnew = np.linspace(0, 4,30)\n",
    "\n",
    "plt.plot(x, y, 'o', xnew, f1(xnew), '-', xnew, f2(xnew), '--')\n",
    "\n",
    "plt.legend(['data', 'linear', 'cubic','nearest'], loc = 'best')\n",
    "\n",
    "plt.show()"
   ]
  },
  {
   "cell_type": "markdown",
   "metadata": {},
   "source": [
    "## SciPy Cluster Module\n",
    "---\n",
    "- Clustering is the process of organizing objects into groups whose members are similar in some way.\n",
    "- Making a raw data to apply our k-mean algorithm \n",
    "\n",
    "**K-Means**"
   ]
  },
  {
   "cell_type": "code",
   "execution_count": 6,
   "metadata": {},
   "outputs": [
    {
     "name": "stdout",
     "output_type": "stream",
     "text": [
      "shpae of data: (60, 2)\n",
      "[1.70379432 1.65104079]\n"
     ]
    },
    {
     "data": {
      "image/png": "[encoded data removed]",
      "text/plain": [
       "<Figure size 432x288 with 1 Axes>"
      ]
     },
     "metadata": {
      "needs_background": "light"
     },
     "output_type": "display_data"
    }
   ],
   "source": [
    "from numpy import vstack,array\n",
    "from numpy.random import rand\n",
    "import matplotlib.pyplot as plt\n",
    "%matplotlib inline\n",
    "from scipy.cluster.vq import kmeans,vq,whiten\n",
    "  \n",
    "data = vstack(((rand(20,2)+1),(rand(20,2)+3),(rand(20,2)+4.5)))\n",
    "print('shpae of data:', data.shape)\n",
    "print(data[0])\n",
    "  \n",
    "plt.plot(data[:,0],data[:,1],'go')\n",
    "plt.show()"
   ]
  },
  {
   "cell_type": "markdown",
   "metadata": {},
   "source": [
    "- Getting the results from K-Mean algorthm and printing the centroid value"
   ]
  },
  {
   "cell_type": "code",
   "execution_count": 54,
   "metadata": {},
   "outputs": [
    {
     "name": "stdout",
     "output_type": "stream",
     "text": [
      "centroids  :  [[3.44603487 3.46217629]\n",
      " [2.37994402 2.43293851]\n",
      " [1.04628672 1.07368297]]\n",
      "distortion : 0.26712575971674263\n"
     ]
    },
    {
     "data": {
      "image/png": "[encoded data removed]",
      "text/plain": [
       "<Figure size 432x288 with 1 Axes>"
      ]
     },
     "metadata": {
      "needs_background": "light"
     },
     "output_type": "display_data"
    }
   ],
   "source": [
    "data = whiten(data)\n",
    " \n",
    "# find 3 clusters in the data\n",
    "centroids,distortion = kmeans(data,3)\n",
    " \n",
    "print('centroids  : ',centroids)\n",
    "print('distortion :',distortion)\n",
    "\n",
    "plt.plot(data[:,0],data[:,1],'go',centroids[:,0],centroids[:,1],'bs')\n",
    "\n",
    "plt.show()\n"
   ]
  },
  {
   "cell_type": "markdown",
   "metadata": {},
   "source": [
    "## Linear Equations\n",
    "- The scipy.linalg.solve feature solves the linear equation a * x + b * y = Z, for the unknown x, y values.\n",
    "- equations \n",
    "    - x + 3y + 5z = 10\n",
    "    - 2x + 5y + z = 8\n",
    "    - 2x + 3y + 8z = 3\n",
    "    \n",
    "- $$\\begin{bmatrix} x\\\\ y\\\\ z \\end{bmatrix} = \\begin{bmatrix} 1 & 3 & 5\\\\ 2 & 5 & 1\\\\ 2 & 3 & 8 \\end{bmatrix}^{-1} \\begin{bmatrix} 10\\\\ 8\\\\ 3 \\end{bmatrix} = \\frac{1}{25} \\begin{bmatrix} -232\\\\ 129\\\\ 19 \\end{bmatrix} = \\begin{bmatrix} -9.28\\\\ 5.16\\\\ 0.76 \\end{bmatrix}.$$"
   ]
  },
  {
   "cell_type": "code",
   "execution_count": 57,
   "metadata": {},
   "outputs": [
    {
     "name": "stdout",
     "output_type": "stream",
     "text": [
      "[-9.28  5.16  0.76]\n"
     ]
    }
   ],
   "source": [
    "from scipy import linalg\n",
    "import numpy as np\n",
    "\n",
    "# D matrix\n",
    "a = np.array([[1, 3, 5], [2, 5, 1], [2, 3, 8]])\n",
    "b = np.array([10, 8, 3])\n",
    "\n",
    "#Passing the values to the solve function\n",
    "x = linalg.solve(a, b)\n",
    "\n",
    "print (x)"
   ]
  },
  {
   "cell_type": "markdown",
   "metadata": {},
   "source": [
    "### Eigenvalues and Eigenvectors\n",
    "- The eigenvalue-eigenvector problem is one of the most commonly employed linear algebra operations. We can find the Eigen values (λ) and the corresponding Eigen vectors (v) of a square matrix (A) by considering the following relation −\n",
    "\n",
    "- Av = λv\n",
    "\n"
   ]
  },
  {
   "cell_type": "code",
   "execution_count": 59,
   "metadata": {},
   "outputs": [
    {
     "name": "stdout",
     "output_type": "stream",
     "text": [
      "Eigen Value [-0.37228132+0.j  5.37228132+0.j]\n",
      "Eigen Vector [[-0.82456484 -0.41597356]\n",
      " [ 0.56576746 -0.90937671]]\n"
     ]
    }
   ],
   "source": [
    "from scipy import linalg\n",
    "import numpy as np\n",
    "\n",
    "\n",
    "A = np.array([[1,2],[3,4]])   # matrix\n",
    "\n",
    "l, v = linalg.eig(A) \n",
    "\n",
    "print(\"Eigen Value\", l)\n",
    "print(\"Eigen Vector\", v)\n"
   ]
  },
  {
   "cell_type": "markdown",
   "metadata": {},
   "source": [
    "## frequently used special functions\n",
    "- #### Cubic Root Function"
   ]
  },
  {
   "cell_type": "code",
   "execution_count": 66,
   "metadata": {},
   "outputs": [
    {
     "name": "stdout",
     "output_type": "stream",
     "text": [
      "[2.15443469 2.08008382 0.50053277 3.         8.         9.        ]\n"
     ]
    }
   ],
   "source": [
    "from scipy.special import cbrt\n",
    "res = cbrt([10, 9, 0.1254, 27, 512, 729])\n",
    "print (res)"
   ]
  },
  {
   "cell_type": "markdown",
   "metadata": {},
   "source": [
    "- **Exponential Function**\n"
   ]
  },
  {
   "cell_type": "code",
   "execution_count": 68,
   "metadata": {},
   "outputs": [
    {
     "name": "stdout",
     "output_type": "stream",
     "text": [
      "[1.e+02 1.e+09]\n"
     ]
    }
   ],
   "source": [
    "from scipy.special import exp10\n",
    "res = exp10([2, 9])\n",
    "print (res)"
   ]
  },
  {
   "cell_type": "markdown",
   "metadata": {},
   "source": [
    "- #### Lambert Function\n",
    "    W(z) is such that z = W(z) * exp(W(z)) for any complex number z."
   ]
  },
  {
   "cell_type": "code",
   "execution_count": 70,
   "metadata": {},
   "outputs": [
    {
     "name": "stdout",
     "output_type": "stream",
     "text": [
      "(0.5671432904097838+0j)\n"
     ]
    },
    {
     "data": {
      "text/plain": [
       "(1+0j)"
      ]
     },
     "execution_count": 70,
     "metadata": {},
     "output_type": "execute_result"
    }
   ],
   "source": [
    "from scipy.special import lambertw\n",
    "w = lambertw(1)\n",
    "print (w)\n",
    "w * np.exp(w)"
   ]
  },
  {
   "cell_type": "markdown",
   "metadata": {},
   "source": [
    "- #### Gamma Function\n",
    "    z*gamma(z) = gamma(z+1) and gamma(n+1) = n!, for a natural number ‘n’."
   ]
  },
  {
   "cell_type": "code",
   "execution_count": 71,
   "metadata": {},
   "outputs": [
    {
     "data": {
      "text/plain": [
       "array([        inf,  1.77245385,  1.        , 24.        ])"
      ]
     },
     "execution_count": 71,
     "metadata": {},
     "output_type": "execute_result"
    }
   ],
   "source": [
    "from scipy.special import gamma\n",
    "res = gamma([0, 0.5, 1, 5])\n",
    "res"
   ]
  }
 ],
 "metadata": {
  "kernelspec": {
   "display_name": "Python 3",
   "language": "python",
   "name": "python3"
  },
  "language_info": {
   "codemirror_mode": {
    "name": "ipython",
    "version": 3
   },
   "file_extension": ".py",
   "mimetype": "text/x-python",
   "name": "python",
   "nbconvert_exporter": "python",
   "pygments_lexer": "ipython3",
   "version": "3.8.5"
  }
 },
 "nbformat": 4,
 "nbformat_minor": 4
}
